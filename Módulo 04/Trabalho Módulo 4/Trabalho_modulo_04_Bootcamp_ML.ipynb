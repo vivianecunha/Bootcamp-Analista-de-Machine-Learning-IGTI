{
  "nbformat": 4,
  "nbformat_minor": 0,
  "metadata": {
    "colab": {
      "name": "Trabalho_modulo_04_Bootcamp_ML.ipynb",
      "provenance": [],
      "collapsed_sections": [],
      "authorship_tag": "ABX9TyODFaqZJ3A32yQKC6B9bGXz",
      "include_colab_link": true
    },
    "kernelspec": {
      "name": "python3",
      "display_name": "Python 3"
    }
  },
  "cells": [
    {
      "cell_type": "markdown",
      "metadata": {
        "id": "view-in-github",
        "colab_type": "text"
      },
      "source": [
        "<a href=\"https://colab.research.google.com/github/vivianecunha/Bootcamp-Analista-de-Machine-Learning-IGTI/blob/master/M%C3%B3dulo%2004/Trabalho%20M%C3%B3dulo%204/Trabalho_modulo_04_Bootcamp_ML.ipynb\" target=\"_parent\"><img src=\"https://colab.research.google.com/assets/colab-badge.svg\" alt=\"Open In Colab\"/></a>"
      ]
    },
    {
      "cell_type": "markdown",
      "metadata": {
        "id": "-OYCU5_lXBGY",
        "colab_type": "text"
      },
      "source": [
        "**Trabalho Prático - Módulo 4**\n",
        "\n",
        "\n",
        "**Objetivo:**\n",
        "*   Classificar imagens através do uso de rede neural\n",
        "*   Visão geral do uso do TensorFlow: https://www.tensorflow.org/tutorials/keras/classification?hl=pt-br\n",
        "\n",
        "\n",
        "Usaremos o Keras para construir e treinar modelos no TensorFlow"
      ]
    },
    {
      "cell_type": "code",
      "metadata": {
        "id": "euniI1W9X9Qq",
        "colab_type": "code",
        "colab": {}
      },
      "source": [
        "#TensorFlow e tf.keras\n",
        "import tensorflow as tf\n",
        "from tensorflow import keras"
      ],
      "execution_count": 1,
      "outputs": []
    },
    {
      "cell_type": "code",
      "metadata": {
        "id": "xINsSMu3YLvx",
        "colab_type": "code",
        "colab": {
          "base_uri": "https://localhost:8080/",
          "height": 34
        },
        "outputId": "5c50dde7-96b8-4df6-c5bd-72b338ee212b"
      },
      "source": [
        "#Librariesauxiliares\n",
        "import numpy as np\n",
        "import matplotlib.pyplot as plt\n",
        "print(tf.__version__)"
      ],
      "execution_count": 2,
      "outputs": [
        {
          "output_type": "stream",
          "text": [
            "2.3.0\n"
          ],
          "name": "stdout"
        }
      ]
    },
    {
      "cell_type": "code",
      "metadata": {
        "id": "gai-M4yDYlts",
        "colab_type": "code",
        "colab": {}
      },
      "source": [
        "#Importando a base de dados Fashion MNIST\n",
        "fashion_mnist = keras.datasets.fashion_mnist"
      ],
      "execution_count": 3,
      "outputs": []
    },
    {
      "cell_type": "code",
      "metadata": {
        "id": "EPG5uiPqYscd",
        "colab_type": "code",
        "colab": {
          "base_uri": "https://localhost:8080/",
          "height": 153
        },
        "outputId": "4413a4e6-2c94-40e1-972b-bc4a3c1523cd"
      },
      "source": [
        "# Carregando a base de dados que retorna quatro NumPy arrays\n",
        "(train_images, train_labels), (test_images, test_labels) = fashion_mnist.load_data()"
      ],
      "execution_count": 4,
      "outputs": [
        {
          "output_type": "stream",
          "text": [
            "Downloading data from https://storage.googleapis.com/tensorflow/tf-keras-datasets/train-labels-idx1-ubyte.gz\n",
            "32768/29515 [=================================] - 0s 0us/step\n",
            "Downloading data from https://storage.googleapis.com/tensorflow/tf-keras-datasets/train-images-idx3-ubyte.gz\n",
            "26427392/26421880 [==============================] - 0s 0us/step\n",
            "Downloading data from https://storage.googleapis.com/tensorflow/tf-keras-datasets/t10k-labels-idx1-ubyte.gz\n",
            "8192/5148 [===============================================] - 0s 0us/step\n",
            "Downloading data from https://storage.googleapis.com/tensorflow/tf-keras-datasets/t10k-images-idx3-ubyte.gz\n",
            "4423680/4422102 [==============================] - 0s 0us/step\n"
          ],
          "name": "stdout"
        }
      ]
    },
    {
      "cell_type": "markdown",
      "metadata": {
        "id": "knCp_MZGZAGU",
        "colab_type": "text"
      },
      "source": [
        "Cada imagem é mapeada com um só label. Já que o nome das classes não são incluídas na base de dados, armazene os dados aqui para usá-los mais tarde quando plotarmos as imagens:"
      ]
    },
    {
      "cell_type": "code",
      "metadata": {
        "id": "GvdI2Z4oZBcR",
        "colab_type": "code",
        "colab": {}
      },
      "source": [
        "class_names = ['T-shirt/top', 'Trouser', 'Pullover', 'Dress', 'Coat',\n",
        "               'Sandal', 'Shirt', 'Sneaker', 'Bag', 'Ankle boot']"
      ],
      "execution_count": 5,
      "outputs": []
    },
    {
      "cell_type": "markdown",
      "metadata": {
        "id": "jZixCTJwZF2X",
        "colab_type": "text"
      },
      "source": [
        "**Explore os dados**"
      ]
    },
    {
      "cell_type": "code",
      "metadata": {
        "id": "09RY0sFJZHW5",
        "colab_type": "code",
        "colab": {
          "base_uri": "https://localhost:8080/",
          "height": 51
        },
        "outputId": "b950fe7e-afc5-40f7-aefe-c8c869eb41ad"
      },
      "source": [
        "print(f'train images: {len(train_images)} \\ntest images:  {len(test_images)}')"
      ],
      "execution_count": 6,
      "outputs": [
        {
          "output_type": "stream",
          "text": [
            "train images: 60000 \n",
            "test images:  10000\n"
          ],
          "name": "stdout"
        }
      ]
    },
    {
      "cell_type": "code",
      "metadata": {
        "id": "KkYTIFHmZVSG",
        "colab_type": "code",
        "colab": {
          "base_uri": "https://localhost:8080/",
          "height": 34
        },
        "outputId": "c3fcb2d0-8a1a-42de-810e-f36c40614c81"
      },
      "source": [
        "# conjunto de treinamento, e cada imagem é representada em 28 x 28 pixels\n",
        "train_images.shape"
      ],
      "execution_count": 7,
      "outputs": [
        {
          "output_type": "execute_result",
          "data": {
            "text/plain": [
              "(60000, 28, 28)"
            ]
          },
          "metadata": {
            "tags": []
          },
          "execution_count": 7
        }
      ]
    },
    {
      "cell_type": "code",
      "metadata": {
        "id": "CwfkW3yXZYMv",
        "colab_type": "code",
        "colab": {
          "base_uri": "https://localhost:8080/",
          "height": 34
        },
        "outputId": "782c5f6c-d564-4d4f-8725-540217d5a614"
      },
      "source": [
        "# Cada label é um inteiro entre 0 e 9\n",
        "train_labels"
      ],
      "execution_count": 8,
      "outputs": [
        {
          "output_type": "execute_result",
          "data": {
            "text/plain": [
              "array([9, 0, 0, ..., 3, 0, 5], dtype=uint8)"
            ]
          },
          "metadata": {
            "tags": []
          },
          "execution_count": 8
        }
      ]
    },
    {
      "cell_type": "code",
      "metadata": {
        "id": "B5SovRzcZa2V",
        "colab_type": "code",
        "colab": {
          "base_uri": "https://localhost:8080/",
          "height": 34
        },
        "outputId": "dadf270a-285c-4b0e-83a6-d1fa61740487"
      },
      "source": [
        "# Todas as labels\n",
        "np.unique(train_labels)"
      ],
      "execution_count": 9,
      "outputs": [
        {
          "output_type": "execute_result",
          "data": {
            "text/plain": [
              "array([0, 1, 2, 3, 4, 5, 6, 7, 8, 9], dtype=uint8)"
            ]
          },
          "metadata": {
            "tags": []
          },
          "execution_count": 9
        }
      ]
    },
    {
      "cell_type": "markdown",
      "metadata": {
        "id": "KlumpnjBZfW5",
        "colab_type": "text"
      },
      "source": [
        "**Pré-processe os dados**"
      ]
    },
    {
      "cell_type": "code",
      "metadata": {
        "id": "BVX9e1CiZgen",
        "colab_type": "code",
        "colab": {
          "base_uri": "https://localhost:8080/",
          "height": 265
        },
        "outputId": "bc53f6c5-78bc-475a-c14b-a01285e71f5e"
      },
      "source": [
        "# Primeira imagem do conjunto de dados\n",
        "plt.figure()\n",
        "plt.imshow(train_images[0])\n",
        "plt.colorbar()\n",
        "plt.grid(False)\n",
        "plt.show()"
      ],
      "execution_count": 10,
      "outputs": [
        {
          "output_type": "display_data",
          "data": {
            "image/png": "[encoded data removed]",
            "text/plain": [
              "<Figure size 432x288 with 2 Axes>"
            ]
          },
          "metadata": {
            "tags": [],
            "needs_background": "light"
          }
        }
      ]
    },
    {
      "cell_type": "code",
      "metadata": {
        "id": "XX1Sz9-ZZw42",
        "colab_type": "code",
        "colab": {}
      },
      "source": [
        "# Escalaremos esses valores no intervalo de 0 e 1 antes antes de alimentar o modelo da rede neural.\n",
        "train_images = train_images / 255.0\n",
        "\n",
        "test_images = test_images / 255.0"
      ],
      "execution_count": 11,
      "outputs": []
    },
    {
      "cell_type": "code",
      "metadata": {
        "id": "6t2VQHWpZ2JY",
        "colab_type": "code",
        "colab": {
          "base_uri": "https://localhost:8080/",
          "height": 589
        },
        "outputId": "7a237668-40cb-4029-f5d1-d25a441f391d"
      },
      "source": [
        "# Primeiras 25 imagens do conjunto de treinamento\n",
        "plt.figure(figsize=(10,10))\n",
        "for i in range(25):\n",
        "    plt.subplot(5,5,i+1)\n",
        "    plt.xticks([])\n",
        "    plt.yticks([])\n",
        "    plt.grid(False)\n",
        "    plt.imshow(train_images[i], cmap=plt.cm.binary)\n",
        "    plt.xlabel(class_names[train_labels[i]])\n",
        "plt.show()"
      ],
      "execution_count": 12,
      "outputs": [
        {
          "output_type": "display_data",
          "data": {
            "image/png": "[encoded data removed]",
            "text/plain": [
              "<Figure size 720x720 with 25 Axes>"
            ]
          },
          "metadata": {
            "tags": []
          }
        }
      ]
    },
    {
      "cell_type": "markdown",
      "metadata": {
        "id": "GeBV4j-aZ61x",
        "colab_type": "text"
      },
      "source": [
        "**Construindo o modelo**"
      ]
    },
    {
      "cell_type": "markdown",
      "metadata": {
        "id": "Gd1nU3HNaGF5",
        "colab_type": "text"
      },
      "source": [
        "1.   Montar o modelo"
      ]
    },
    {
      "cell_type": "code",
      "metadata": {
        "id": "vWv49IhSZ8at",
        "colab_type": "code",
        "colab": {}
      },
      "source": [
        "# Montar as camadas\n",
        "model = keras.Sequential([\n",
        "    keras.layers.Flatten(input_shape=(28, 28)),\n",
        "    keras.layers.Dense(128, activation='relu'),\n",
        "    keras.layers.Dense(10, activation='softmax')\n",
        "])"
      ],
      "execution_count": 13,
      "outputs": []
    },
    {
      "cell_type": "markdown",
      "metadata": {
        "id": "MIDSw_91aa6M",
        "colab_type": "text"
      },
      "source": [
        "2.   Compile o modelo"
      ]
    },
    {
      "cell_type": "code",
      "metadata": {
        "id": "NlYpLclva4Vd",
        "colab_type": "code",
        "colab": {}
      },
      "source": [
        "model.compile(optimizer='adam', #Isso é como o modelo se atualiza com base no dado que ele vê e sua função loss\n",
        "              loss='sparse_categorical_crossentropy',  #Loss mede quão preciso o modelo é durante o treinamento\n",
        "              metrics=['accuracy'])  #usado para monitorar os passos de treinamento e teste"
      ],
      "execution_count": 14,
      "outputs": []
    },
    {
      "cell_type": "code",
      "metadata": {
        "id": "FeSUm72gbQVx",
        "colab_type": "code",
        "colab": {
          "base_uri": "https://localhost:8080/",
          "height": 255
        },
        "outputId": "2aad29de-718b-4fac-fea2-a87b043c3e02"
      },
      "source": [
        "model.summary()"
      ],
      "execution_count": 15,
      "outputs": [
        {
          "output_type": "stream",
          "text": [
            "Model: \"sequential\"\n",
            "_________________________________________________________________\n",
            "Layer (type)                 Output Shape              Param #   \n",
            "=================================================================\n",
            "flatten (Flatten)            (None, 784)               0         \n",
            "_________________________________________________________________\n",
            "dense (Dense)                (None, 128)               100480    \n",
            "_________________________________________________________________\n",
            "dense_1 (Dense)              (None, 10)                1290      \n",
            "=================================================================\n",
            "Total params: 101,770\n",
            "Trainable params: 101,770\n",
            "Non-trainable params: 0\n",
            "_________________________________________________________________\n"
          ],
          "name": "stdout"
        }
      ]
    },
    {
      "cell_type": "markdown",
      "metadata": {
        "id": "JpToHhTYbgPQ",
        "colab_type": "text"
      },
      "source": [
        "**Treine o modelo**"
      ]
    },
    {
      "cell_type": "code",
      "metadata": {
        "id": "4xta_aeqb7Jn",
        "colab_type": "code",
        "colab": {
          "base_uri": "https://localhost:8080/",
          "height": 374
        },
        "outputId": "ff7e87ec-e044-4bf7-bbd3-456aa925d4b7"
      },
      "source": [
        "#Treine o modelo com o método fit\n",
        "model.fit(train_images, train_labels, epochs=10)"
      ],
      "execution_count": 16,
      "outputs": [
        {
          "output_type": "stream",
          "text": [
            "Epoch 1/10\n",
            "1875/1875 [==============================] - 3s 2ms/step - loss: 0.4969 - accuracy: 0.8255\n",
            "Epoch 2/10\n",
            "1875/1875 [==============================] - 3s 2ms/step - loss: 0.3729 - accuracy: 0.8648\n",
            "Epoch 3/10\n",
            "1875/1875 [==============================] - 3s 2ms/step - loss: 0.3339 - accuracy: 0.8785\n",
            "Epoch 4/10\n",
            "1875/1875 [==============================] - 3s 2ms/step - loss: 0.3119 - accuracy: 0.8858\n",
            "Epoch 5/10\n",
            "1875/1875 [==============================] - 3s 2ms/step - loss: 0.2950 - accuracy: 0.8915\n",
            "Epoch 6/10\n",
            "1875/1875 [==============================] - 3s 2ms/step - loss: 0.2810 - accuracy: 0.8970\n",
            "Epoch 7/10\n",
            "1875/1875 [==============================] - 3s 2ms/step - loss: 0.2690 - accuracy: 0.9005\n",
            "Epoch 8/10\n",
            "1875/1875 [==============================] - 3s 2ms/step - loss: 0.2600 - accuracy: 0.9032\n",
            "Epoch 9/10\n",
            "1875/1875 [==============================] - 3s 2ms/step - loss: 0.2485 - accuracy: 0.9075\n",
            "Epoch 10/10\n",
            "1875/1875 [==============================] - 3s 2ms/step - loss: 0.2385 - accuracy: 0.9105\n"
          ],
          "name": "stdout"
        },
        {
          "output_type": "execute_result",
          "data": {
            "text/plain": [
              "<tensorflow.python.keras.callbacks.History at 0x7f71c47f3f98>"
            ]
          },
          "metadata": {
            "tags": []
          },
          "execution_count": 16
        }
      ]
    },
    {
      "cell_type": "markdown",
      "metadata": {
        "id": "0csjzzfscP04",
        "colab_type": "text"
      },
      "source": [
        "**Avalie a acurácia**"
      ]
    },
    {
      "cell_type": "code",
      "metadata": {
        "id": "TWLdlF2XcSGW",
        "colab_type": "code",
        "colab": {
          "base_uri": "https://localhost:8080/",
          "height": 68
        },
        "outputId": "619b97a4-43fd-4c48-e948-9fa951edc3a0"
      },
      "source": [
        "test_loss, test_acc = model.evaluate(test_images,  test_labels, verbose=2)\n",
        "\n",
        "print('\\nTest accuracy:', test_acc)"
      ],
      "execution_count": 17,
      "outputs": [
        {
          "output_type": "stream",
          "text": [
            "313/313 - 0s - loss: 0.3484 - accuracy: 0.8741\n",
            "\n",
            "Test accuracy: 0.8741000294685364\n"
          ],
          "name": "stdout"
        }
      ]
    },
    {
      "cell_type": "markdown",
      "metadata": {
        "id": "65kIEP4AcWpw",
        "colab_type": "text"
      },
      "source": [
        "**Faça predições**"
      ]
    },
    {
      "cell_type": "code",
      "metadata": {
        "id": "KktRQe_rcbce",
        "colab_type": "code",
        "colab": {}
      },
      "source": [
        "#Para predições de algumas imagens\n",
        "predictions = model.predict(test_images)"
      ],
      "execution_count": 18,
      "outputs": []
    },
    {
      "cell_type": "code",
      "metadata": {
        "id": "8ulcg6GHcn0S",
        "colab_type": "code",
        "colab": {
          "base_uri": "https://localhost:8080/",
          "height": 68
        },
        "outputId": "50ee110f-3c9a-40d7-fca1-7af5b0da6d88"
      },
      "source": [
        "# Primeira pedição do conjunto. A predição é um array de 10 números\n",
        "predictions[0]"
      ],
      "execution_count": 19,
      "outputs": [
        {
          "output_type": "execute_result",
          "data": {
            "text/plain": [
              "array([6.0945595e-08, 2.6251537e-09, 8.4866713e-08, 1.4723348e-11,\n",
              "       8.3165217e-09, 2.6020705e-05, 2.4485954e-07, 4.7248468e-04,\n",
              "       9.3341592e-09, 9.9950111e-01], dtype=float32)"
            ]
          },
          "metadata": {
            "tags": []
          },
          "execution_count": 19
        }
      ]
    },
    {
      "cell_type": "code",
      "metadata": {
        "id": "LIw5YfI6cuqJ",
        "colab_type": "code",
        "colab": {
          "base_uri": "https://localhost:8080/",
          "height": 34
        },
        "outputId": "ce5fbfee-6794-4d15-84a8-34a6a2c11e59"
      },
      "source": [
        "# Podemos ver cada label tem um maior valor de confiança.\n",
        "# Então, o modelo é confiante de que essa imagem é uma bota (ankle boot) ou class_names[9]\n",
        "np.argmax(predictions[0])"
      ],
      "execution_count": 20,
      "outputs": [
        {
          "output_type": "execute_result",
          "data": {
            "text/plain": [
              "9"
            ]
          },
          "metadata": {
            "tags": []
          },
          "execution_count": 20
        }
      ]
    },
    {
      "cell_type": "code",
      "metadata": {
        "id": "lQ6sJ_iQczys",
        "colab_type": "code",
        "colab": {
          "base_uri": "https://localhost:8080/",
          "height": 35
        },
        "outputId": "98041be3-c4ec-4771-bf0d-a234d70b263f"
      },
      "source": [
        "class_names[9]"
      ],
      "execution_count": 21,
      "outputs": [
        {
          "output_type": "execute_result",
          "data": {
            "application/vnd.google.colaboratory.intrinsic+json": {
              "type": "string"
            },
            "text/plain": [
              "'Ankle boot'"
            ]
          },
          "metadata": {
            "tags": []
          },
          "execution_count": 21
        }
      ]
    },
    {
      "cell_type": "code",
      "metadata": {
        "id": "STBV7nWZc2s_",
        "colab_type": "code",
        "colab": {
          "base_uri": "https://localhost:8080/",
          "height": 34
        },
        "outputId": "d84b4d83-bcd2-41c4-9fbf-5ecb344d79de"
      },
      "source": [
        "# Examinando a label do teste, vemos que essa classificação é correta\n",
        "test_labels[0]"
      ],
      "execution_count": 22,
      "outputs": [
        {
          "output_type": "execute_result",
          "data": {
            "text/plain": [
              "9"
            ]
          },
          "metadata": {
            "tags": []
          },
          "execution_count": 22
        }
      ]
    },
    {
      "cell_type": "code",
      "metadata": {
        "id": "ws5oAs_rc9xQ",
        "colab_type": "code",
        "colab": {}
      },
      "source": [
        "#Podemos mostrar graficamente como se parece em um conjunto total de previsão de 10 classes.\n",
        "def plot_image(i, predictions_array, true_label, img):\n",
        "  predictions_array, true_label, img = predictions_array[i], true_label[i], img[i]\n",
        "  plt.grid(False)\n",
        "  plt.xticks([])\n",
        "  plt.yticks([])\n",
        "\n",
        "  plt.imshow(img, cmap=plt.cm.binary)\n",
        "\n",
        "  predicted_label = np.argmax(predictions_array)\n",
        "  if predicted_label == true_label:\n",
        "    color = 'blue'\n",
        "  else:\n",
        "    color = 'red'\n",
        "\n",
        "  plt.xlabel(\"{} {:2.0f}% ({})\".format(class_names[predicted_label],\n",
        "                                100*np.max(predictions_array),\n",
        "                                class_names[true_label]),\n",
        "                                color=color)\n",
        "\n",
        "def plot_value_array(i, predictions_array, true_label):\n",
        "  predictions_array, true_label = predictions_array[i], true_label[i]\n",
        "  plt.grid(False)\n",
        "  plt.xticks([])\n",
        "  plt.yticks([])\n",
        "  thisplot = plt.bar(range(10), predictions_array, color=\"#777777\")\n",
        "  plt.ylim([0, 1])\n",
        "  predicted_label = np.argmax(predictions_array)\n",
        "\n",
        "  thisplot[predicted_label].set_color('red')\n",
        "  thisplot[true_label].set_color('blue')"
      ],
      "execution_count": 23,
      "outputs": []
    },
    {
      "cell_type": "code",
      "metadata": {
        "id": "JYgI8-2mdEWh",
        "colab_type": "code",
        "colab": {
          "base_uri": "https://localhost:8080/",
          "height": 203
        },
        "outputId": "35c805c3-3d97-4585-f99d-ee2cd5010b05"
      },
      "source": [
        "#Vamos olhar a previsão imagem na posição 0, do array de predição\n",
        "i = 0\n",
        "plt.figure(figsize=(6,3))\n",
        "plt.subplot(1,2,1)\n",
        "plot_image(i, predictions, test_labels, test_images)\n",
        "plt.subplot(1,2,2)\n",
        "plot_value_array(i, predictions,  test_labels)\n",
        "plt.show()"
      ],
      "execution_count": 24,
      "outputs": [
        {
          "output_type": "display_data",
          "data": {
            "image/png": "[encoded data removed]",
            "text/plain": [
              "<Figure size 432x216 with 2 Axes>"
            ]
          },
          "metadata": {
            "tags": []
          }
        }
      ]
    },
    {
      "cell_type": "code",
      "metadata": {
        "id": "Ge4MgZVyenR1",
        "colab_type": "code",
        "colab": {
          "base_uri": "https://localhost:8080/",
          "height": 203
        },
        "outputId": "dca6fe30-b8fa-4b32-a29a-018314a6949b"
      },
      "source": [
        "i = 12\n",
        "plt.figure(figsize=(6,3))\n",
        "plt.subplot(1,2,1)\n",
        "plot_image(i, predictions, test_labels, test_images)\n",
        "plt.subplot(1,2,2)\n",
        "plot_value_array(i, predictions,  test_labels)\n",
        "plt.show()"
      ],
      "execution_count": 25,
      "outputs": [
        {
          "output_type": "display_data",
          "data": {
            "image/png": "[encoded data removed]",
            "text/plain": [
              "<Figure size 432x216 with 2 Axes>"
            ]
          },
          "metadata": {
            "tags": []
          }
        }
      ]
    },
    {
      "cell_type": "code",
      "metadata": {
        "id": "lw_O1oYnexOA",
        "colab_type": "code",
        "colab": {
          "base_uri": "https://localhost:8080/",
          "height": 589
        },
        "outputId": "e91360e2-71d3-4ed3-fdad-e2b4b2a8e590"
      },
      "source": [
        "# Labels preditas corretamente são azuis e as predições erradas são vermelhas.\n",
        "# O número dá a porcentagem (de 100) das labels preditas. Note que o modelo pode errar mesmo estão confiante.\n",
        "# Plota o primeiro X test images, e as labels preditas, e as labels verdadeiras.\n",
        "# Colore as predições corretas de azul e as incorretas de vermelho.\n",
        "num_rows = 5\n",
        "num_cols = 3\n",
        "num_images = num_rows*num_cols\n",
        "plt.figure(figsize=(2*2*num_cols, 2*num_rows))\n",
        "for i in range(num_images):\n",
        "  plt.subplot(num_rows, 2*num_cols, 2*i+1)\n",
        "  plot_image(i, predictions, test_labels, test_images)\n",
        "  plt.subplot(num_rows, 2*num_cols, 2*i+2)\n",
        "  plot_value_array(i, predictions, test_labels)\n",
        "plt.show()"
      ],
      "execution_count": 26,
      "outputs": [
        {
          "output_type": "display_data",
          "data": {
            "image/png": "[encoded data removed]",
            "text/plain": [
              "<Figure size 864x720 with 30 Axes>"
            ]
          },
          "metadata": {
            "tags": []
          }
        }
      ]
    },
    {
      "cell_type": "code",
      "metadata": {
        "id": "SnhqxkFTe69Q",
        "colab_type": "code",
        "colab": {
          "base_uri": "https://localhost:8080/",
          "height": 34
        },
        "outputId": "fea7a860-25ef-4910-d00b-66fb1deab723"
      },
      "source": [
        "# Finamente, use o modelo treinado para fazer a predição de uma única imagem.\n",
        "# Grab an image from the test dataset.\n",
        "img = test_images[0]\n",
        "\n",
        "print(img.shape)"
      ],
      "execution_count": 27,
      "outputs": [
        {
          "output_type": "stream",
          "text": [
            "(28, 28)\n"
          ],
          "name": "stdout"
        }
      ]
    },
    {
      "cell_type": "code",
      "metadata": {
        "id": "0I9EOYJdfBW6",
        "colab_type": "code",
        "colab": {
          "base_uri": "https://localhost:8080/",
          "height": 34
        },
        "outputId": "c54b048a-911a-4e23-d7e2-88eb3fddffdc"
      },
      "source": [
        "# Adiciona a imagem em um batch que possui um só membro.\n",
        "img = (np.expand_dims(img,0))\n",
        "\n",
        "print(img.shape)"
      ],
      "execution_count": 28,
      "outputs": [
        {
          "output_type": "stream",
          "text": [
            "(1, 28, 28)\n"
          ],
          "name": "stdout"
        }
      ]
    },
    {
      "cell_type": "code",
      "metadata": {
        "id": "qodsENSIfD47",
        "colab_type": "code",
        "colab": {
          "base_uri": "https://localhost:8080/",
          "height": 51
        },
        "outputId": "e20af4b3-cc34-4654-bbf5-981316ee0c87"
      },
      "source": [
        "#Agora prediremos a label correta para essa imagem:\n",
        "predictions_single = model.predict(img)\n",
        "\n",
        "print(predictions_single)"
      ],
      "execution_count": 29,
      "outputs": [
        {
          "output_type": "stream",
          "text": [
            "[[6.0945474e-08 2.6251537e-09 8.4866713e-08 1.4723263e-11 8.3165066e-09\n",
            "  2.6020682e-05 2.4485908e-07 4.7248445e-04 9.3341583e-09 9.9950111e-01]]\n"
          ],
          "name": "stdout"
        }
      ]
    },
    {
      "cell_type": "code",
      "metadata": {
        "id": "rPApGYnJfHvO",
        "colab_type": "code",
        "colab": {
          "base_uri": "https://localhost:8080/",
          "height": 300
        },
        "outputId": "815e2432-0273-4929-b217-60471756dcd2"
      },
      "source": [
        "plot_value_array(0, predictions_single, test_labels)\n",
        "_ = plt.xticks(range(10), class_names, rotation=45)"
      ],
      "execution_count": 30,
      "outputs": [
        {
          "output_type": "display_data",
          "data": {
            "image/png": "[encoded data removed]",
            "text/plain": [
              "<Figure size 432x288 with 1 Axes>"
            ]
          },
          "metadata": {
            "tags": [],
            "needs_background": "light"
          }
        }
      ]
    },
    {
      "cell_type": "code",
      "metadata": {
        "id": "BxeaWTR2fPF4",
        "colab_type": "code",
        "colab": {
          "base_uri": "https://localhost:8080/",
          "height": 34
        },
        "outputId": "30d84400-d422-4966-a9e9-e0bfdbeb5918"
      },
      "source": [
        "#Pegue a predição de nossa (única) imagem no batch:\n",
        "np.argmax(predictions_single[0])"
      ],
      "execution_count": 31,
      "outputs": [
        {
          "output_type": "execute_result",
          "data": {
            "text/plain": [
              "9"
            ]
          },
          "metadata": {
            "tags": []
          },
          "execution_count": 31
        }
      ]
    },
    {
      "cell_type": "markdown",
      "metadata": {
        "id": "-X_Re_thDjA1",
        "colab_type": "text"
      },
      "source": [
        "#Questionário\n"
      ]
    },
    {
      "cell_type": "markdown",
      "metadata": {
        "id": "3kUCR3d_Dmsb",
        "colab_type": "text"
      },
      "source": [
        "\n",
        "\n",
        "1.   Que tipo de Aprendizado foi utilizado no nosso problema?\n",
        "\n",
        "\n",
        "*   Aprendizado por reforço.\n",
        "*   ***Supervisionado.***\n",
        "*   Semi-supervisionado.\n",
        "*   Não supervisionado.\n",
        "\n",
        "\n",
        "\n",
        "\n",
        "\n"
      ]
    },
    {
      "cell_type": "markdown",
      "metadata": {
        "id": "RXoEArZwFCex",
        "colab_type": "text"
      },
      "source": [
        "2.   O modelo lida com quantas classes?\n",
        "\n",
        "*   7\n",
        "*   9\n",
        "*   8\n",
        "*   ***10***"
      ]
    },
    {
      "cell_type": "markdown",
      "metadata": {
        "id": "x_4cQdkgFJU1",
        "colab_type": "text"
      },
      "source": [
        "3.   Como os tipos de características foram identificadas?\n",
        "\n",
        "*   ***Pelos descritores de forma.***\n",
        "*   Pelos inversores de borda.\n",
        "*   Pelas regressões logísticas de forma.\n",
        "*   Pelos tradutores manuais de imagem."
      ]
    },
    {
      "cell_type": "markdown",
      "metadata": {
        "id": "4UZazQLXFLyy",
        "colab_type": "text"
      },
      "source": [
        "4.   Podemos citar a análise utilizada aqui como:\n",
        "\n",
        "*   ***Preditiva.***\n",
        "*   Especialista.\n",
        "*   Alternativa.\n",
        "*   Retroativa."
      ]
    },
    {
      "cell_type": "markdown",
      "metadata": {
        "id": "DnMlsCLpFWMg",
        "colab_type": "text"
      },
      "source": [
        "5.   Pensando no conceito de Inteligência Artificial, podemos dizer que:\n",
        "\n",
        "*  ***O sistema montado tenta pensar como humanos.***\n",
        "*   O sistema montado tenta deduzir como máquinas.\n",
        "*   O sistema montado repete instruções prévias.\n",
        "*   O sistema montado não é capaz de generalizar."
      ]
    },
    {
      "cell_type": "markdown",
      "metadata": {
        "id": "NmsjQZ8HFczE",
        "colab_type": "text"
      },
      "source": [
        "6.   O desempenho do sistema deve melhorar não apenas na repetição da mesma tarefa, mas também nas tarefas similares do domínio. Portanto:\n",
        "\n",
        "*   O aprendizado envolve a repetição linear a partir da experiência.\n",
        "*   O aprendizado envolve a regressão a partir da experiência.\n",
        "*   O aprendizado envolve a regressão a partir da observação.\n",
        "*   O aprendizado envolve a generalização a partir da experiência."
      ]
    },
    {
      "cell_type": "markdown",
      "metadata": {
        "id": "kAy2meZeFkWu",
        "colab_type": "text"
      },
      "source": [
        "7. O exemplo foi que tipo de inferência?\n",
        "\n",
        "*   Classificativa.\n",
        "*   ***Indutiva.***\n",
        "*   Repetitiva.\n",
        "*   Dedutiva."
      ]
    },
    {
      "cell_type": "markdown",
      "metadata": {
        "id": "S3ljvPeFFqJl",
        "colab_type": "text"
      },
      "source": [
        "8.   Nesse trabalho qual tipo de algoritmo foi usado para classificar?\n",
        "\n",
        "*   Redes recorrentes.\n",
        "*   ***Redes Neurais.***\n",
        "*   SVM.\n",
        "*   Regressão Logística."
      ]
    },
    {
      "cell_type": "markdown",
      "metadata": {
        "id": "23vvu5KCFwja",
        "colab_type": "text"
      },
      "source": [
        "9. Pelo uso do Flatten, podemos afirmar qual foi a rede utilizada?\n",
        "\n",
        "*   Sim, foi um Perceptron Multicamada.\n",
        "*   Sim, foi um Flatten por Reforço.\n",
        "*   Não, pois o Flatten é algo inexistente.\n",
        "*   ***Sim, foi uma Rede Neural CNN.***"
      ]
    },
    {
      "cell_type": "markdown",
      "metadata": {
        "id": "qv-cVmijF2C-",
        "colab_type": "text"
      },
      "source": [
        "10.   Para que serviu a função Loss no nosso modelo?\n",
        "\n",
        "*   Maximiza a função para guiar o modelo para direção certa.\n",
        "*   Otimiza a função para guiar o modelo para direção aleatória.\n",
        "*   ***Minimiza a função para guiar o modelo para direção certa.***\n",
        "*   Internaliza a função para guiar o modelo para direção certa."
      ]
    },
    {
      "cell_type": "markdown",
      "metadata": {
        "id": "VSZAGOz0F7aT",
        "colab_type": "text"
      },
      "source": [
        "11.   Para que serve o comando model.fit?\n",
        "\n",
        "*   Verificar a acurácia.\n",
        "*   Iniciar o modelo para carga.\n",
        "*   Teste.\n",
        "*   ***Treinamento.***"
      ]
    },
    {
      "cell_type": "markdown",
      "metadata": {
        "id": "TESBmlHTGBIb",
        "colab_type": "text"
      },
      "source": [
        "12. No treinamento do modelo, qual foi a acurácia da Epoch 5/10?\n",
        "\n",
        "*   0,8252.\n",
        "*   0,8114.\n",
        "*   ***0,8914.***\n",
        "*   0,08852."
      ]
    },
    {
      "cell_type": "markdown",
      "metadata": {
        "id": "3xpCIjTIGGkX",
        "colab_type": "text"
      },
      "source": [
        "13.   Qual foi a acurácia do modelo no teste?\n",
        "\n",
        "*   0,313.\n",
        "*   ***0,8811***\n",
        "*   0,3418.\n",
        "*   0,9811."
      ]
    },
    {
      "cell_type": "markdown",
      "metadata": {
        "id": "dPuMRiZvGqqL",
        "colab_type": "text"
      },
      "source": [
        "14.   Quantas imagens foram utilizadas para a etapa de predição?\n",
        "\n",
        "*   2.\n",
        "*   5.\n",
        "*   ***1.***\n",
        "*   4."
      ]
    },
    {
      "cell_type": "markdown",
      "metadata": {
        "id": "NpoF-NVxJuai",
        "colab_type": "text"
      },
      "source": [
        "15.   Acerca do exemplo apresentado responda qual foi o resultado da classificação e se ela retornou o valor correto?\n",
        "\n",
        "*   Label 8 de forma incorreta.\n",
        "*   Label 8 de forma correta.\n",
        "*   ***Label 9 de forma correta.***\n",
        "*   Label 7 de forma correta."
      ]
    }
  ]
}